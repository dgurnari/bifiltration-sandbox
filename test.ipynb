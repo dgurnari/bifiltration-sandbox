{
 "cells": [
  {
   "cell_type": "code",
   "execution_count": 1,
   "metadata": {},
   "outputs": [],
   "source": [
    "import numpy as np\n",
    "import pandas as pd\n",
    "import matplotlib.pyplot as plt"
   ]
  },
  {
   "cell_type": "code",
   "execution_count": 2,
   "metadata": {},
   "outputs": [],
   "source": [
    "def EC_at_bifiltration(contributions, f1, f2):\n",
    "    return sum([c[1] for c in contributions if (c[0][0] <= f1) and (c[0][1] <= f2)])"
   ]
  },
  {
   "cell_type": "markdown",
   "metadata": {},
   "source": [
    "Load the contributions"
   ]
  },
  {
   "cell_type": "code",
   "execution_count": 3,
   "metadata": {},
   "outputs": [
    {
     "data": {
      "text/html": [
       "<div>\n",
       "<style scoped>\n",
       "    .dataframe tbody tr th:only-of-type {\n",
       "        vertical-align: middle;\n",
       "    }\n",
       "\n",
       "    .dataframe tbody tr th {\n",
       "        vertical-align: top;\n",
       "    }\n",
       "\n",
       "    .dataframe thead th {\n",
       "        text-align: right;\n",
       "    }\n",
       "</style>\n",
       "<table border=\"1\" class=\"dataframe\">\n",
       "  <thead>\n",
       "    <tr style=\"text-align: right;\">\n",
       "      <th></th>\n",
       "      <th>x</th>\n",
       "      <th>y</th>\n",
       "      <th>c</th>\n",
       "    </tr>\n",
       "  </thead>\n",
       "  <tbody>\n",
       "    <tr>\n",
       "      <th>0</th>\n",
       "      <td>0.000000</td>\n",
       "      <td>0.543989</td>\n",
       "      <td>1</td>\n",
       "    </tr>\n",
       "    <tr>\n",
       "      <th>1</th>\n",
       "      <td>0.000000</td>\n",
       "      <td>0.765272</td>\n",
       "      <td>1</td>\n",
       "    </tr>\n",
       "    <tr>\n",
       "      <th>2</th>\n",
       "      <td>0.000000</td>\n",
       "      <td>0.784982</td>\n",
       "      <td>1</td>\n",
       "    </tr>\n",
       "    <tr>\n",
       "      <th>3</th>\n",
       "      <td>0.000000</td>\n",
       "      <td>0.810654</td>\n",
       "      <td>1</td>\n",
       "    </tr>\n",
       "    <tr>\n",
       "      <th>4</th>\n",
       "      <td>0.000000</td>\n",
       "      <td>0.979813</td>\n",
       "      <td>1</td>\n",
       "    </tr>\n",
       "    <tr>\n",
       "      <th>5</th>\n",
       "      <td>0.000000</td>\n",
       "      <td>1.069267</td>\n",
       "      <td>1</td>\n",
       "    </tr>\n",
       "    <tr>\n",
       "      <th>6</th>\n",
       "      <td>0.000000</td>\n",
       "      <td>1.151196</td>\n",
       "      <td>1</td>\n",
       "    </tr>\n",
       "    <tr>\n",
       "      <th>7</th>\n",
       "      <td>0.000000</td>\n",
       "      <td>1.236160</td>\n",
       "      <td>1</td>\n",
       "    </tr>\n",
       "    <tr>\n",
       "      <th>8</th>\n",
       "      <td>0.000000</td>\n",
       "      <td>1.236785</td>\n",
       "      <td>1</td>\n",
       "    </tr>\n",
       "    <tr>\n",
       "      <th>9</th>\n",
       "      <td>0.000000</td>\n",
       "      <td>1.386753</td>\n",
       "      <td>1</td>\n",
       "    </tr>\n",
       "    <tr>\n",
       "      <th>10</th>\n",
       "      <td>0.245764</td>\n",
       "      <td>0.810654</td>\n",
       "      <td>-1</td>\n",
       "    </tr>\n",
       "    <tr>\n",
       "      <th>11</th>\n",
       "      <td>0.263554</td>\n",
       "      <td>0.765272</td>\n",
       "      <td>-1</td>\n",
       "    </tr>\n",
       "  </tbody>\n",
       "</table>\n",
       "</div>"
      ],
      "text/plain": [
       "           x         y  c\n",
       "0   0.000000  0.543989  1\n",
       "1   0.000000  0.765272  1\n",
       "2   0.000000  0.784982  1\n",
       "3   0.000000  0.810654  1\n",
       "4   0.000000  0.979813  1\n",
       "5   0.000000  1.069267  1\n",
       "6   0.000000  1.151196  1\n",
       "7   0.000000  1.236160  1\n",
       "8   0.000000  1.236785  1\n",
       "9   0.000000  1.386753  1\n",
       "10  0.245764  0.810654 -1\n",
       "11  0.263554  0.765272 -1"
      ]
     },
     "execution_count": 3,
     "metadata": {},
     "output_type": "execute_result"
    }
   ],
   "source": [
    "contributions_df = pd.read_csv(\n",
    "    \"10_pts.csv\", header=None, sep=\" \", names=[\"x\", \"y\", \"c\"]\n",
    ")\n",
    "contributions_df"
   ]
  },
  {
   "cell_type": "code",
   "execution_count": 4,
   "metadata": {},
   "outputs": [
    {
     "data": {
      "text/plain": [
       "[((0.0, 0.5439893902156914), 1.0),\n",
       " ((0.0, 0.7652717518095831), 1.0),\n",
       " ((0.0, 0.78498225366767), 1.0),\n",
       " ((0.0, 0.8106539103277385), 1.0),\n",
       " ((0.0, 0.9798128397007654), 1.0)]"
      ]
     },
     "execution_count": 4,
     "metadata": {},
     "output_type": "execute_result"
    }
   ],
   "source": [
    "contributions_list = [((r[0], r[1]), r[2]) for r in contributions_df.values]\n",
    "contributions_list[:5]"
   ]
  },
  {
   "cell_type": "markdown",
   "metadata": {},
   "source": [
    "Now we compute the ECP on a fixed grid, the grid values are generated using `np.linspace`   \n",
    "the `endpoint` parameter controls wheter the last point is included or not"
   ]
  },
  {
   "cell_type": "code",
   "execution_count": 5,
   "metadata": {},
   "outputs": [
    {
     "data": {
      "text/plain": [
       "array([0.  , 0.25, 0.5 , 0.75, 1.  ])"
      ]
     },
     "execution_count": 5,
     "metadata": {},
     "output_type": "execute_result"
    }
   ],
   "source": [
    "np.linspace(start=0, stop=1, num=5, endpoint=True)"
   ]
  },
  {
   "cell_type": "code",
   "execution_count": 6,
   "metadata": {},
   "outputs": [
    {
     "data": {
      "text/plain": [
       "array([0. , 0.2, 0.4, 0.6, 0.8])"
      ]
     },
     "execution_count": 6,
     "metadata": {},
     "output_type": "execute_result"
    }
   ],
   "source": [
    "np.linspace(start=0, stop=1, num=5, endpoint=False)"
   ]
  },
  {
   "cell_type": "markdown",
   "metadata": {},
   "source": [
    "Compute the discretized ECP on a regular grid"
   ]
  },
  {
   "cell_type": "markdown",
   "metadata": {},
   "source": [
    "## My coordinates, starting from 0.00"
   ]
  },
  {
   "cell_type": "code",
   "execution_count": 13,
   "metadata": {},
   "outputs": [
    {
     "data": {
      "image/png": "[encoded data removed]",
      "text/plain": [
       "<Figure size 400x400 with 2 Axes>"
      ]
     },
     "metadata": {},
     "output_type": "display_data"
    }
   ],
   "source": [
    "MIN_X = 0.00\n",
    "MAX_X = 1.4\n",
    "\n",
    "MIN_Y = 0.00\n",
    "MAX_Y = 1.4\n",
    "\n",
    "INCLUDE_ENDPOINT = True  # whether to include MAX value in the grid\n",
    "\n",
    "GRIDSIZE = (10, 10)\n",
    "\n",
    "## initializing matrix\n",
    "M = np.zeros(GRIDSIZE, dtype=int)\n",
    "\n",
    "# computing\n",
    "for i, x in enumerate(\n",
    "    np.linspace(start=MIN_X, stop=MAX_X, num=GRIDSIZE[0], endpoint=INCLUDE_ENDPOINT)\n",
    "):\n",
    "    for j, y in enumerate(\n",
    "        np.linspace(start=MIN_Y, stop=MAX_Y, num=GRIDSIZE[1], endpoint=INCLUDE_ENDPOINT)\n",
    "    ):\n",
    "        M[j, i] = EC_at_bifiltration(contributions_list, x, y)\n",
    "\n",
    "fig, ax = plt.subplots(1, 1, figsize=(4, 4))\n",
    "im = ax.pcolormesh(M, edgecolors=\"w\", linewidth=1, cmap=\"jet\")\n",
    "\n",
    "ax.set_xlabel(\"x\")\n",
    "ax.set_xticks(\n",
    "    [i + 0.5 for i in range(GRIDSIZE[0])],\n",
    "    [\n",
    "        \"{:.2f}\".format(l)\n",
    "        for l in np.linspace(\n",
    "            start=MIN_X, stop=MAX_X, num=GRIDSIZE[0], endpoint=INCLUDE_ENDPOINT\n",
    "        )\n",
    "    ],\n",
    "    rotation=90,\n",
    ")\n",
    "\n",
    "ax.set_ylabel(\"y\")\n",
    "ax.set_yticks(\n",
    "    [i + 0.5 for i in range(GRIDSIZE[1])],\n",
    "    [\n",
    "        \"{:.2f}\".format(l)\n",
    "        for l in np.linspace(\n",
    "            start=MIN_Y, stop=MAX_Y, num=GRIDSIZE[1], endpoint=INCLUDE_ENDPOINT\n",
    "        )\n",
    "    ],\n",
    ")\n",
    "plt.colorbar(im, ax=ax)\n",
    "ax.set_aspect(\"equal\")\n",
    "plt.tight_layout()\n",
    "plt.show()"
   ]
  },
  {
   "cell_type": "code",
   "execution_count": 14,
   "metadata": {},
   "outputs": [
    {
     "data": {
      "text/plain": [
       "array([[10, 10,  8,  8,  8,  8,  8,  8,  8,  8],\n",
       "       [ 9,  9,  7,  7,  7,  7,  7,  7,  7,  7],\n",
       "       [ 6,  6,  4,  4,  4,  4,  4,  4,  4,  4],\n",
       "       [ 4,  4,  2,  2,  2,  2,  2,  2,  2,  2],\n",
       "       [ 2,  2,  1,  1,  1,  1,  1,  1,  1,  1],\n",
       "       [ 1,  1,  1,  1,  1,  1,  1,  1,  1,  1],\n",
       "       [ 0,  0,  0,  0,  0,  0,  0,  0,  0,  0],\n",
       "       [ 0,  0,  0,  0,  0,  0,  0,  0,  0,  0],\n",
       "       [ 0,  0,  0,  0,  0,  0,  0,  0,  0,  0],\n",
       "       [ 0,  0,  0,  0,  0,  0,  0,  0,  0,  0]])"
      ]
     },
     "execution_count": 14,
     "metadata": {},
     "output_type": "execute_result"
    }
   ],
   "source": [
    "## print the matrix in the same way it is displayed on the plot\n",
    "M[::-1]"
   ]
  },
  {
   "cell_type": "code",
   "execution_count": 15,
   "metadata": {},
   "outputs": [
    {
     "data": {
      "text/plain": [
       "array([[ 0,  0,  0,  0,  1,  2,  4,  6,  9, 10],\n",
       "       [ 0,  0,  0,  0,  1,  2,  4,  6,  9, 10],\n",
       "       [ 0,  0,  0,  0,  1,  1,  2,  4,  7,  8],\n",
       "       [ 0,  0,  0,  0,  1,  1,  2,  4,  7,  8],\n",
       "       [ 0,  0,  0,  0,  1,  1,  2,  4,  7,  8],\n",
       "       [ 0,  0,  0,  0,  1,  1,  2,  4,  7,  8],\n",
       "       [ 0,  0,  0,  0,  1,  1,  2,  4,  7,  8],\n",
       "       [ 0,  0,  0,  0,  1,  1,  2,  4,  7,  8],\n",
       "       [ 0,  0,  0,  0,  1,  1,  2,  4,  7,  8],\n",
       "       [ 0,  0,  0,  0,  1,  1,  2,  4,  7,  8]])"
      ]
     },
     "execution_count": 15,
     "metadata": {},
     "output_type": "execute_result"
    }
   ],
   "source": [
    "## print the matrix in the same way it is displayed on the C++ code\n",
    "M.T"
   ]
  },
  {
   "cell_type": "markdown",
   "metadata": {},
   "source": [
    "## Pawel's coordinates, starting from 0.14"
   ]
  },
  {
   "cell_type": "code",
   "execution_count": 16,
   "metadata": {},
   "outputs": [
    {
     "data": {
      "image/png": "[encoded data removed]",
      "text/plain": [
       "<Figure size 400x400 with 2 Axes>"
      ]
     },
     "metadata": {},
     "output_type": "display_data"
    }
   ],
   "source": [
    "MIN_X = 0.14\n",
    "MAX_X = 1.4\n",
    "\n",
    "MIN_Y = 0.14\n",
    "MAX_Y = 1.4\n",
    "\n",
    "INCLUDE_ENDPOINT = True  # whether to include MAX value in the grid\n",
    "\n",
    "GRIDSIZE = (10, 10)\n",
    "\n",
    "## initializing matrix\n",
    "M = np.zeros(GRIDSIZE, dtype=int)\n",
    "\n",
    "# computing\n",
    "for i, x in enumerate(\n",
    "    np.linspace(start=MIN_X, stop=MAX_X, num=GRIDSIZE[0], endpoint=INCLUDE_ENDPOINT)\n",
    "):\n",
    "    for j, y in enumerate(\n",
    "        np.linspace(start=MIN_Y, stop=MAX_Y, num=GRIDSIZE[1], endpoint=INCLUDE_ENDPOINT)\n",
    "    ):\n",
    "        M[j, i] = EC_at_bifiltration(contributions_list, x, y)\n",
    "\n",
    "fig, ax = plt.subplots(1, 1, figsize=(4, 4))\n",
    "im = ax.pcolormesh(M, edgecolors=\"w\", linewidth=1, cmap=\"jet\")\n",
    "\n",
    "ax.set_xlabel(\"x\")\n",
    "ax.set_xticks(\n",
    "    [i + 0.5 for i in range(GRIDSIZE[0])],\n",
    "    [\n",
    "        \"{:.2f}\".format(l)\n",
    "        for l in np.linspace(\n",
    "            start=MIN_X, stop=MAX_X, num=GRIDSIZE[0], endpoint=INCLUDE_ENDPOINT\n",
    "        )\n",
    "    ],\n",
    "    rotation=90,\n",
    ")\n",
    "\n",
    "ax.set_ylabel(\"y\")\n",
    "ax.set_yticks(\n",
    "    [i + 0.5 for i in range(GRIDSIZE[1])],\n",
    "    [\n",
    "        \"{:.2f}\".format(l)\n",
    "        for l in np.linspace(\n",
    "            start=MIN_Y, stop=MAX_Y, num=GRIDSIZE[1], endpoint=INCLUDE_ENDPOINT\n",
    "        )\n",
    "    ],\n",
    ")\n",
    "plt.colorbar(im, ax=ax)\n",
    "ax.set_aspect(\"equal\")\n",
    "plt.tight_layout()\n",
    "plt.show()"
   ]
  },
  {
   "cell_type": "code",
   "execution_count": 17,
   "metadata": {},
   "outputs": [
    {
     "data": {
      "text/plain": [
       "array([[ 0,  0,  0,  0,  0,  0,  0,  0,  0,  0],\n",
       "       [ 0,  0,  0,  0,  0,  0,  0,  0,  0,  0],\n",
       "       [ 0,  0,  0,  0,  0,  0,  0,  0,  0,  0],\n",
       "       [ 1,  1,  1,  1,  1,  1,  1,  1,  1,  1],\n",
       "       [ 1,  1,  1,  1,  1,  1,  1,  1,  1,  1],\n",
       "       [ 4,  2,  2,  2,  2,  2,  2,  2,  2,  2],\n",
       "       [ 5,  3,  3,  3,  3,  3,  3,  3,  3,  3],\n",
       "       [ 6,  4,  4,  4,  4,  4,  4,  4,  4,  4],\n",
       "       [ 9,  7,  7,  7,  7,  7,  7,  7,  7,  7],\n",
       "       [10,  8,  8,  8,  8,  8,  8,  8,  8,  8]])"
      ]
     },
     "execution_count": 17,
     "metadata": {},
     "output_type": "execute_result"
    }
   ],
   "source": [
    "M"
   ]
  },
  {
   "cell_type": "code",
   "execution_count": 18,
   "metadata": {},
   "outputs": [
    {
     "data": {
      "text/plain": [
       "array([[ 0,  0,  0,  1,  1,  4,  5,  6,  9, 10],\n",
       "       [ 0,  0,  0,  1,  1,  2,  3,  4,  7,  8],\n",
       "       [ 0,  0,  0,  1,  1,  2,  3,  4,  7,  8],\n",
       "       [ 0,  0,  0,  1,  1,  2,  3,  4,  7,  8],\n",
       "       [ 0,  0,  0,  1,  1,  2,  3,  4,  7,  8],\n",
       "       [ 0,  0,  0,  1,  1,  2,  3,  4,  7,  8],\n",
       "       [ 0,  0,  0,  1,  1,  2,  3,  4,  7,  8],\n",
       "       [ 0,  0,  0,  1,  1,  2,  3,  4,  7,  8],\n",
       "       [ 0,  0,  0,  1,  1,  2,  3,  4,  7,  8],\n",
       "       [ 0,  0,  0,  1,  1,  2,  3,  4,  7,  8]])"
      ]
     },
     "execution_count": 18,
     "metadata": {},
     "output_type": "execute_result"
    }
   ],
   "source": [
    "## print the matrix in the same way it is displayed on the C++ code\n",
    "M.T"
   ]
  },
  {
   "cell_type": "code",
   "execution_count": null,
   "metadata": {},
   "outputs": [],
   "source": []
  }
 ],
 "metadata": {
  "kernelspec": {
   "display_name": "tda",
   "language": "python",
   "name": "python3"
  },
  "language_info": {
   "codemirror_mode": {
    "name": "ipython",
    "version": 3
   },
   "file_extension": ".py",
   "mimetype": "text/x-python",
   "name": "python",
   "nbconvert_exporter": "python",
   "pygments_lexer": "ipython3",
   "version": "3.12.7"
  }
 },
 "nbformat": 4,
 "nbformat_minor": 2
}
