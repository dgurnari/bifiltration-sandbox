{
 "cells": [
  {
   "cell_type": "code",
   "execution_count": 1,
   "metadata": {},
   "outputs": [],
   "source": [
    "import numpy as np\n",
    "import pandas as pd\n",
    "import matplotlib.pyplot as plt\n",
    "\n",
    "from tqdm.auto import tqdm"
   ]
  },
  {
   "cell_type": "code",
   "execution_count": 2,
   "metadata": {},
   "outputs": [],
   "source": [
    "import numpy as np\n",
    "\n",
    "\n",
    "def prune_contributions(contributions):\n",
    "    \"\"\"\n",
    "    Prune contributions by summing values for each unique coordinate and removing\n",
    "    any contributions that result in a total value of zero.\n",
    "\n",
    "    Parameters\n",
    "    ----------\n",
    "    contributions : list of tuples\n",
    "        A list where each element is a tuple containing a coordinate (tuple/list) and a contribution value.\n",
    "        Coordinates may repeat, and the function will sum the contributions with the same coordinates.\n",
    "\n",
    "    Returns\n",
    "    -------\n",
    "    list of tuples\n",
    "        A sorted list of tuples, where each tuple contains a unique coordinate and its total contribution,\n",
    "        excluding coordinates with a zero contribution.\n",
    "    \"\"\"\n",
    "    total_ECP = dict()\n",
    "\n",
    "    # Sum contributions for each unique coordinate\n",
    "    for a in contributions:\n",
    "        total_ECP[a[0]] = total_ECP.get(a[0], 0) + a[1]\n",
    "\n",
    "    # Remove the contributions that are zero\n",
    "    to_del = [key for key, value in total_ECP.items() if value == 0]\n",
    "    for key in to_del:\n",
    "        del total_ECP[key]\n",
    "\n",
    "    # Return sorted list of tuples (coordinate, total contribution)\n",
    "    return sorted(total_ECP.items(), key=lambda x: x[0])\n",
    "\n",
    "\n",
    "def EC_at_value(contributions, *fs):\n",
    "    \"\"\"\n",
    "    Calculate the sum of contributions for a given set of coordinates in n-dimensional space.\n",
    "\n",
    "    Parameters\n",
    "    ----------\n",
    "    contributions : list of tuples\n",
    "        A list where each element is a tuple containing a coordinate and a contribution value.\n",
    "\n",
    "    *fs : float\n",
    "        A variable number of threshold values representing the coordinates for each dimension.\n",
    "        The number of values must match the number of dimensions of the coordinates in the contributions.\n",
    "\n",
    "    Returns\n",
    "    -------\n",
    "    float\n",
    "        The sum of contributions that are less than or equal to the given thresholds for each dimension.\n",
    "    \"\"\"\n",
    "    return sum(\n",
    "        [c[1] for c in contributions if all(c[0][i] <= fs[i] for i in range(len(fs)))]\n",
    "    )\n",
    "\n",
    "\n",
    "def difference_ECP(ecp_1, ecp_2, dims):\n",
    "    \"\"\"\n",
    "    Calculate the difference in contributions between two ECPs (Energy Contribution Points)\n",
    "    for an arbitrary number of dimensions.\n",
    "\n",
    "    Parameters\n",
    "    ----------\n",
    "    ecp_1 : list of tuples\n",
    "        A list of tuples, where each tuple contains a coordinate (in any dimension) and a contribution value.\n",
    "\n",
    "    ecp_2 : list of tuples\n",
    "        A list of tuples, where each tuple contains a coordinate (in any dimension) and a contribution value.\n",
    "\n",
    "    dims : tuple of float\n",
    "        A tuple representing the min and max boundaries for each dimension. The length of `dims` must be twice the number\n",
    "        of dimensions, i.e., for `n` dimensions, `dims` should contain `2n` values.\n",
    "\n",
    "    Returns\n",
    "    -------\n",
    "    float\n",
    "        The difference in the energy contributions, calculated by subtracting contributions from `ecp_2`\n",
    "        from `ecp_1`, integrating over the space defined by `dims`.\n",
    "\n",
    "    Notes\n",
    "    -----\n",
    "    The function assumes that the dimensions in the `dims` parameter are ordered in the form\n",
    "    `(f0min, f0max, f1min, f1max, ..., fnmin, fnmax)`, where each pair of consecutive values corresponds\n",
    "    to the min and max of a specific dimension. The contributions should have coordinates matching the number of\n",
    "    dimensions in `dims`.\n",
    "\n",
    "    Examples\n",
    "    --------\n",
    "    ecp_1 = [((1, 2, 3), 10), ((4, 5, 6), 20)]\n",
    "    ecp_2 = [((2, 3, 4), 5), ((3, 4, 5), 15)]\n",
    "    dims = (0, 5, 0, 5, 0, 5)  # 3D space, with x, y, z ranging from 0 to 5\n",
    "    result = difference_nd_ECP(ecp_1, ecp_2, dims)\n",
    "    print(result)\n",
    "    \"\"\"\n",
    "\n",
    "    # Extract the min and max values for each dimension from `dims`\n",
    "    num_dims = len(dims) // 2\n",
    "    mins = dims[::2]\n",
    "    maxs = dims[1::2]\n",
    "\n",
    "    # Initialize contributions with the boundary points\n",
    "    contributions = [\n",
    "        (tuple([mins[i] for i in range(num_dims)]), 0),\n",
    "        (tuple([maxs[i] for i in range(num_dims)]), 0),\n",
    "    ]\n",
    "\n",
    "    contributions += ecp_1\n",
    "    contributions += [(c[0], -1 * c[1]) for c in ecp_2]\n",
    "\n",
    "    # Prune contributions and add back boundary points\n",
    "    contributions = (\n",
    "        [(tuple([mins[i] for i in range(num_dims)]), 0)]\n",
    "        + prune_contributions(contributions)\n",
    "        + [(tuple([maxs[i] for i in range(num_dims)]), 0)]\n",
    "    )\n",
    "\n",
    "    # Generate sorted lists of unique coordinates for each dimension\n",
    "    coordinate_lists = [\n",
    "        sorted(set([c[0][i] for c in contributions])) for i in range(num_dims)\n",
    "    ]\n",
    "\n",
    "    # Initialize the difference variable\n",
    "    difference = 0\n",
    "\n",
    "    # Initialize indices for each dimension (we start from the first coordinate)\n",
    "    indices = [0] * num_dims\n",
    "\n",
    "    # List to store deltas for each dimension (initialized to None, we'll calculate them later)\n",
    "    deltas = [None] * num_dims\n",
    "\n",
    "    while True:\n",
    "        # Calculate the deltas for the current indices, i.e., the differences between adjacent coordinates\n",
    "        for i in range(num_dims):\n",
    "            deltas[i] = (\n",
    "                coordinate_lists[i][indices[i] + 1] - coordinate_lists[i][indices[i]]\n",
    "            )\n",
    "\n",
    "        # Calculate the coordinates corresponding to the current indices\n",
    "        coords = tuple(coordinate_lists[i][indices[i]] for i in range(num_dims))\n",
    "\n",
    "        # Compute the contribution at the current coordinates\n",
    "        contribution_value = EC_at_value(contributions, *coords)\n",
    "\n",
    "        # Multiply the contribution by the volume of the current \"box\" (product of deltas)\n",
    "        difference += contribution_value * np.prod(deltas)\n",
    "\n",
    "        # Move to the next set of indices (advance the indices like counting in a multi-dimensional array)\n",
    "        for i in range(\n",
    "            num_dims - 1, -1, -1\n",
    "        ):  # Start from the last dimension and move backwards\n",
    "            indices[i] += 1\n",
    "            if indices[i] < len(coordinate_lists[i]) - 1:\n",
    "                break  # If we've not overflowed, stop incrementing\n",
    "            else:\n",
    "                indices[i] = 0  # Reset this dimension and move to the next dimension\n",
    "\n",
    "        # If we've exhausted all indices, break out of the loop\n",
    "        if all(idx == 0 for idx in indices):\n",
    "            break\n",
    "\n",
    "    return difference"
   ]
  },
  {
   "cell_type": "code",
   "execution_count": null,
   "metadata": {},
   "outputs": [],
   "source": []
  },
  {
   "cell_type": "code",
   "execution_count": 3,
   "metadata": {},
   "outputs": [],
   "source": [
    "rng = np.random.default_rng(seed=42)"
   ]
  },
  {
   "cell_type": "markdown",
   "metadata": {},
   "source": [
    "## 2d"
   ]
  },
  {
   "cell_type": "markdown",
   "metadata": {},
   "source": [
    "create two ECP and compute their distance"
   ]
  },
  {
   "cell_type": "code",
   "execution_count": 13,
   "metadata": {},
   "outputs": [
    {
     "data": {
      "text/plain": [
       "[((84, 27), 4),\n",
       " ((29, 42), 1),\n",
       " ((12, 55), 0),\n",
       " ((77, 98), 1),\n",
       " ((40, 40), -1),\n",
       " ((80, 31), -4),\n",
       " ((33, 2), -4),\n",
       " ((8, 76), 2),\n",
       " ((68, 45), 2),\n",
       " ((15, 89), 0)]"
      ]
     },
     "execution_count": 13,
     "metadata": {},
     "output_type": "execute_result"
    }
   ],
   "source": [
    "contributions_2d = [\n",
    "    (tuple(rng.integers(low=0, high=99, size=2)), rng.integers(low=-5, high=5))\n",
    "    for _ in range(10)\n",
    "]\n",
    "\n",
    "pd.DataFrame(data=[[row[0][0], row[0][1], row[1]] for row in contributions_2d]).to_csv(\n",
    "    \"data/distances/2d_1.csv\", index=False, header=False, sep=\" \"\n",
    ")\n",
    "\n",
    "contributions_2d"
   ]
  },
  {
   "cell_type": "code",
   "execution_count": 14,
   "metadata": {},
   "outputs": [
    {
     "data": {
      "text/plain": [
       "[((84, 27), 4),\n",
       " ((29, 42), 1),\n",
       " ((12, 55), 0),\n",
       " ((77, 98), 1),\n",
       " ((40, 40), -1),\n",
       " ((80, 31), -4),\n",
       " ((33, 2), -4),\n",
       " ((8, 76), 2),\n",
       " ((68, 45), 2),\n",
       " ((15, 89), 0),\n",
       " ((50, 50), 1)]"
      ]
     },
     "execution_count": 14,
     "metadata": {},
     "output_type": "execute_result"
    }
   ],
   "source": [
    "new_contributions_2d = contributions_2d + [((50, 50), 1)]\n",
    "\n",
    "pd.DataFrame(\n",
    "    data=[[row[0][0], row[0][1], row[1]] for row in new_contributions_2d]\n",
    ").to_csv(\"data/distances/2d_2.csv\", index=False, header=False, sep=\" \")\n",
    "\n",
    "new_contributions_2d"
   ]
  },
  {
   "cell_type": "code",
   "execution_count": 6,
   "metadata": {},
   "outputs": [],
   "source": [
    "assert (\n",
    "    difference_ECP(contributions_2d, new_contributions_2d, dims=(0, 100, 0, 100))\n",
    "    == -50 * 50\n",
    ")"
   ]
  },
  {
   "cell_type": "markdown",
   "metadata": {},
   "source": [
    "## 3d"
   ]
  },
  {
   "cell_type": "code",
   "execution_count": 7,
   "metadata": {},
   "outputs": [],
   "source": [
    "contributions_3d = [\n",
    "    (tuple(rng.integers(low=0, high=99, size=3)), rng.integers(low=-5, high=5))\n",
    "    for _ in range(10)\n",
    "]\n",
    "\n",
    "pd.DataFrame(\n",
    "    data=[[row[0][0], row[0][1], row[0][2], row[1]] for row in contributions_3d]\n",
    ").to_csv(\"data/distances/3d_1.csv\", index=False, header=False, sep=\" \")\n",
    "\n",
    "new_contributions_3d = contributions_3d + [((50, 50, 50), -1)]\n",
    "\n",
    "pd.DataFrame(\n",
    "    data=[[row[0][0], row[0][1], row[0][1], row[1]] for row in new_contributions_3d]\n",
    ").to_csv(\"data/distances/3d_2.csv\", index=False, header=False, sep=\" \")"
   ]
  },
  {
   "cell_type": "code",
   "execution_count": 8,
   "metadata": {},
   "outputs": [],
   "source": [
    "assert (\n",
    "    difference_ECP(contributions_3d, new_contributions_3d, (0, 100, 0, 100, 0, 100))\n",
    "    == 50**3\n",
    ")"
   ]
  },
  {
   "cell_type": "markdown",
   "metadata": {},
   "source": [
    "## 4d"
   ]
  },
  {
   "cell_type": "code",
   "execution_count": null,
   "metadata": {},
   "outputs": [],
   "source": [
    "contributions_4d = [\n",
    "    (tuple(rng.integers(low=0, high=99, size=4)), rng.integers(low=-5, high=5))\n",
    "    for _ in range(10)\n",
    "]\n",
    "\n",
    "pd.DataFrame(\n",
    "    data=[\n",
    "        [row[0][0], row[0][1], row[0][2], row[0][3], row[1]] for row in contributions_4d\n",
    "    ]\n",
    ").to_csv(\"data/distances/4d_1.csv\", index=False, header=False, sep=\" \")\n",
    "\n",
    "new_contributions_4d = contributions_4d + [((50, 50, 50, 50), -1)]\n",
    "\n",
    "pd.DataFrame(\n",
    "    data=[\n",
    "        [row[0][0], row[0][1], row[0][2], row[0][3], row[1]]\n",
    "        for row in new_contributions_4d\n",
    "    ]\n",
    ").to_csv(\"data/distances/4d_2.csv\", index=False, header=False, sep=\" \")"
   ]
  },
  {
   "cell_type": "code",
   "execution_count": 11,
   "metadata": {},
   "outputs": [],
   "source": [
    "assert (\n",
    "    difference_ECP(\n",
    "        contributions_4d, new_contributions_4d, (0, 100, 0, 100, 0, 100, 0, 100)\n",
    "    )\n",
    "    == 50**4\n",
    ")"
   ]
  },
  {
   "cell_type": "code",
   "execution_count": null,
   "metadata": {},
   "outputs": [],
   "source": []
  }
 ],
 "metadata": {
  "kernelspec": {
   "display_name": "tda",
   "language": "python",
   "name": "python3"
  },
  "language_info": {
   "codemirror_mode": {
    "name": "ipython",
    "version": 3
   },
   "file_extension": ".py",
   "mimetype": "text/x-python",
   "name": "python",
   "nbconvert_exporter": "python",
   "pygments_lexer": "ipython3",
   "version": "3.12.7"
  }
 },
 "nbformat": 4,
 "nbformat_minor": 2
}
